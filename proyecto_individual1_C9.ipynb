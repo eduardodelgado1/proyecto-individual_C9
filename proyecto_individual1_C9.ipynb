{
 "cells": [
  {
   "cell_type": "code",
   "execution_count": 1,
   "metadata": {},
   "outputs": [],
   "source": [
    "import pandas as pd"
   ]
  },
  {
   "attachments": {},
   "cell_type": "markdown",
   "metadata": {},
   "source": [
    "En primera instancia se procede a cargar el cunto de datos que servirán de base"
   ]
  },
  {
   "cell_type": "code",
   "execution_count": 2,
   "metadata": {},
   "outputs": [],
   "source": [
    "\n",
    "amazon = pd.read_csv(r\"C:\\Users\\eduar\\OneDrive\\Documentos\\Henry\\proyec individual c09\\amazon_prime_titles.csv\")\n"
   ]
  },
  {
   "cell_type": "code",
   "execution_count": null,
   "metadata": {},
   "outputs": [],
   "source": [
    "print(amazon.head(3))"
   ]
  },
  {
   "attachments": {},
   "cell_type": "markdown",
   "metadata": {},
   "source": [
    "Generar campo **`id`**: Cada id se compondrá de la primera letra del nombre de la plataforma, \n",
    "seguido del show_id ya presente en los datasets (ejemplo para títulos de Amazon = **`as123`**)\n",
    "\n",
    "para lo cual utilizaremos \n",
    "a.- Crear nueva columna: df['new_index'] = 'x' + df['existing_column']\n",
    "b,- definir esta nueva columna como indice: df.set_index('new_index', inplace=True)\n",
    "\n",
    "\n"
   ]
  },
  {
   "attachments": {},
   "cell_type": "markdown",
   "metadata": {},
   "source": [
    "Para Amzon"
   ]
  },
  {
   "cell_type": "code",
   "execution_count": 3,
   "metadata": {},
   "outputs": [],
   "source": [
    "amazon.reset_index(inplace=True)\n",
    "amazon['id'] = 'a' + amazon['show_id']\n",
    "amazon.set_index('id', inplace=True)"
   ]
  },
  {
   "cell_type": "code",
   "execution_count": null,
   "metadata": {},
   "outputs": [],
   "source": [
    "print(amazon.head(3))"
   ]
  },
  {
   "cell_type": "code",
   "execution_count": 7,
   "metadata": {},
   "outputs": [
    {
     "name": "stdout",
     "output_type": "stream",
     "text": [
      "id\n"
     ]
    }
   ],
   "source": [
    "print(amazon.index.name)"
   ]
  },
  {
   "attachments": {},
   "cell_type": "markdown",
   "metadata": {},
   "source": [
    " Los valores nulos del campo rating deberán reemplazarse por el string “**`G`**” (corresponde al maturity rating: “general for all audiences”"
   ]
  },
  {
   "cell_type": "code",
   "execution_count": 4,
   "metadata": {},
   "outputs": [],
   "source": [
    "amazon[\"rating\"] = amazon[\"rating\"].fillna(\"G\")"
   ]
  },
  {
   "attachments": {},
   "cell_type": "markdown",
   "metadata": {},
   "source": [
    " De haber fechas, deberán tener el formato **`AAAA-mm-dd`**"
   ]
  },
  {
   "cell_type": "code",
   "execution_count": 5,
   "metadata": {},
   "outputs": [],
   "source": [
    "amazon[\"date_added\"] = pd.to_datetime(amazon[\"date_added\"])"
   ]
  },
  {
   "attachments": {},
   "cell_type": "markdown",
   "metadata": {},
   "source": [
    " Los campos de texto deberán estar en **minúsculas**, sin excepciones\n"
   ]
  },
  {
   "cell_type": "code",
   "execution_count": 6,
   "metadata": {},
   "outputs": [],
   "source": [
    "amazon = amazon.applymap(lambda s: s.lower() if type(s) == str else s)"
   ]
  },
  {
   "attachments": {},
   "cell_type": "markdown",
   "metadata": {},
   "source": [
    "El campo ***duration*** debe convertirse en dos campos: **`duration_int`** y **`duration_type`**. El primero será un integer y el segundo un string indicando la unidad de medición de duración: min (minutos) o season (temporadas)"
   ]
  },
  {
   "cell_type": "code",
   "execution_count": 7,
   "metadata": {},
   "outputs": [],
   "source": [
    "amazon[\"duration\"] = amazon[\"duration\"].astype(str)"
   ]
  },
  {
   "cell_type": "code",
   "execution_count": 8,
   "metadata": {},
   "outputs": [],
   "source": [
    "amazon['min']= amazon['duration'].apply(lambda i: i.split()[0] \n",
    "    if i.split()[1]=='min' \n",
    "    else '0')\n",
    "\n",
    "amazon['seasons']= amazon['duration'].apply(lambda i: i.split()[0] \n",
    "    if i.split(\" \",1)[1]=='Seasons' or i.split(\" \",1)[1]=='Season' \n",
    "    else '0')"
   ]
  },
  {
   "cell_type": "code",
   "execution_count": null,
   "metadata": {},
   "outputs": [],
   "source": [
    "print(amazon.head())"
   ]
  },
  {
   "attachments": {},
   "cell_type": "markdown",
   "metadata": {},
   "source": [
    "Ahora para disney"
   ]
  },
  {
   "cell_type": "code",
   "execution_count": 10,
   "metadata": {},
   "outputs": [],
   "source": [
    "disney = pd.read_csv(r\"C:\\Users\\eduar\\OneDrive\\Documentos\\Henry\\proyec individual c09\\disney_plus_titles.csv\")"
   ]
  },
  {
   "cell_type": "code",
   "execution_count": 11,
   "metadata": {},
   "outputs": [],
   "source": [
    "disney.reset_index(inplace=True)\n",
    "disney['id'] = 'd' + disney['show_id']\n",
    "disney.set_index('id', inplace=True)"
   ]
  },
  {
   "cell_type": "code",
   "execution_count": 12,
   "metadata": {},
   "outputs": [],
   "source": [
    "disney[\"rating\"] = disney[\"rating\"].fillna(\"G\")"
   ]
  },
  {
   "cell_type": "code",
   "execution_count": 13,
   "metadata": {},
   "outputs": [],
   "source": [
    "disney[\"date_added\"] = pd.to_datetime(disney[\"date_added\"])"
   ]
  },
  {
   "cell_type": "code",
   "execution_count": 14,
   "metadata": {},
   "outputs": [],
   "source": [
    "disney = disney.applymap(lambda s: s.lower() if type(s) == str else s)"
   ]
  },
  {
   "cell_type": "code",
   "execution_count": 15,
   "metadata": {},
   "outputs": [],
   "source": [
    "disney[\"duration\"] = disney[\"duration\"].astype(str)"
   ]
  },
  {
   "cell_type": "code",
   "execution_count": 16,
   "metadata": {},
   "outputs": [],
   "source": [
    "disney['min']= disney['duration'].apply(lambda i: i.split()[0] \n",
    "    if i.split()[1]=='min' \n",
    "    else '0')\n",
    "\n",
    "disney['seasons']= disney['duration'].apply(lambda i: i.split()[0] \n",
    "    if i.split(\" \",1)[1]=='Seasons' or i.split(\" \",1)[1]=='Season' \n",
    "    else '0')"
   ]
  },
  {
   "attachments": {},
   "cell_type": "markdown",
   "metadata": {},
   "source": [
    "Ahora para hulu"
   ]
  },
  {
   "cell_type": "code",
   "execution_count": 17,
   "metadata": {},
   "outputs": [],
   "source": [
    "hulu = pd.read_csv(r\"C:\\Users\\eduar\\OneDrive\\Documentos\\Henry\\proyec individual c09\\hulu_titles.csv\")"
   ]
  },
  {
   "cell_type": "code",
   "execution_count": 18,
   "metadata": {},
   "outputs": [],
   "source": [
    "hulu.reset_index(inplace=True)\n",
    "hulu['id'] = 'a' + hulu['show_id']\n",
    "hulu.set_index('id', inplace=True)"
   ]
  },
  {
   "cell_type": "code",
   "execution_count": 19,
   "metadata": {},
   "outputs": [],
   "source": [
    "hulu[\"rating\"] = hulu[\"rating\"].fillna(\"G\")"
   ]
  },
  {
   "cell_type": "code",
   "execution_count": 20,
   "metadata": {},
   "outputs": [],
   "source": [
    "hulu[\"date_added\"] = pd.to_datetime(hulu[\"date_added\"])"
   ]
  },
  {
   "cell_type": "code",
   "execution_count": 21,
   "metadata": {},
   "outputs": [],
   "source": [
    "hulu = hulu.applymap(lambda s: s.lower() if type(s) == str else s)"
   ]
  },
  {
   "cell_type": "code",
   "execution_count": 22,
   "metadata": {},
   "outputs": [],
   "source": [
    "hulu[\"duration\"] = hulu[\"duration\"].astype(str)"
   ]
  },
  {
   "cell_type": "code",
   "execution_count": 23,
   "metadata": {},
   "outputs": [],
   "source": [
    "hulu['min']= hulu['duration'].apply(lambda i: i.split()[0]\n",
    "    if i.split()=='min' \n",
    "    else '0')\n",
    "\n",
    "hulu['seasons']= hulu['duration'].apply(lambda i: i.split()[0]\n",
    "    if i.split()=='Seasons'\n",
    "    else '0')"
   ]
  },
  {
   "cell_type": "code",
   "execution_count": 24,
   "metadata": {},
   "outputs": [],
   "source": [
    "netflix = pd.read_csv(r\"C:\\Users\\eduar\\OneDrive\\Documentos\\Henry\\proyec individual c09\\netflix_titles.csv\")"
   ]
  },
  {
   "cell_type": "code",
   "execution_count": 25,
   "metadata": {},
   "outputs": [],
   "source": [
    "netflix.reset_index(inplace=True)\n",
    "netflix['id'] = 'n' + netflix['show_id']\n",
    "netflix.set_index('id', inplace=True)"
   ]
  },
  {
   "cell_type": "code",
   "execution_count": 26,
   "metadata": {},
   "outputs": [],
   "source": [
    "netflix[\"rating\"] = netflix[\"rating\"].fillna(\"G\")"
   ]
  },
  {
   "cell_type": "code",
   "execution_count": 27,
   "metadata": {},
   "outputs": [],
   "source": [
    "netflix[\"date_added\"] = pd.to_datetime(netflix[\"date_added\"])"
   ]
  },
  {
   "cell_type": "code",
   "execution_count": 28,
   "metadata": {},
   "outputs": [],
   "source": [
    "netflix = netflix.applymap(lambda s: s.lower() if type(s) == str else s)"
   ]
  },
  {
   "cell_type": "code",
   "execution_count": 29,
   "metadata": {},
   "outputs": [],
   "source": [
    "netflix[\"duration\"] = netflix[\"duration\"].astype(str)"
   ]
  },
  {
   "cell_type": "code",
   "execution_count": 30,
   "metadata": {},
   "outputs": [],
   "source": [
    "netflix['min']= netflix['duration'].apply(lambda i: i.split()[0]\n",
    "    if i.split()=='min' \n",
    "    else '0')\n",
    "\n",
    "netflix['seasons']= netflix['duration'].apply(lambda i: i.split()[0]\n",
    "    if i.split()=='Seasons'\n",
    "    else '0')"
   ]
  },
  {
   "attachments": {},
   "cell_type": "markdown",
   "metadata": {},
   "source": [
    "Lo siguiente es agregar una columna a cada dataframe con su respectiva plataforma, para luego concatenarlos y que cada Movie o Tv Show esté relacionado con su plat5aforma plataforma pertenece."
   ]
  },
  {
   "cell_type": "code",
   "execution_count": 31,
   "metadata": {},
   "outputs": [],
   "source": [
    "amazon['platform'] = 'Amazon'\n",
    "disney['platform'] = 'Disney'\n",
    "hulu['platform'] = 'Hulu'\n",
    "netflix['platform'] = 'Netflix'"
   ]
  },
  {
   "attachments": {},
   "cell_type": "markdown",
   "metadata": {},
   "source": [
    "despues de divideir la columna duration esta se elimena "
   ]
  },
  {
   "cell_type": "code",
   "execution_count": 32,
   "metadata": {},
   "outputs": [
    {
     "data": {
      "text/html": [
       "<div>\n",
       "<style scoped>\n",
       "    .dataframe tbody tr th:only-of-type {\n",
       "        vertical-align: middle;\n",
       "    }\n",
       "\n",
       "    .dataframe tbody tr th {\n",
       "        vertical-align: top;\n",
       "    }\n",
       "\n",
       "    .dataframe thead th {\n",
       "        text-align: right;\n",
       "    }\n",
       "</style>\n",
       "<table border=\"1\" class=\"dataframe\">\n",
       "  <thead>\n",
       "    <tr style=\"text-align: right;\">\n",
       "      <th></th>\n",
       "      <th>index</th>\n",
       "      <th>show_id</th>\n",
       "      <th>type</th>\n",
       "      <th>title</th>\n",
       "      <th>director</th>\n",
       "      <th>cast</th>\n",
       "      <th>country</th>\n",
       "      <th>date_added</th>\n",
       "      <th>release_year</th>\n",
       "      <th>rating</th>\n",
       "      <th>listed_in</th>\n",
       "      <th>description</th>\n",
       "      <th>min</th>\n",
       "      <th>seasons</th>\n",
       "      <th>platform</th>\n",
       "    </tr>\n",
       "    <tr>\n",
       "      <th>id</th>\n",
       "      <th></th>\n",
       "      <th></th>\n",
       "      <th></th>\n",
       "      <th></th>\n",
       "      <th></th>\n",
       "      <th></th>\n",
       "      <th></th>\n",
       "      <th></th>\n",
       "      <th></th>\n",
       "      <th></th>\n",
       "      <th></th>\n",
       "      <th></th>\n",
       "      <th></th>\n",
       "      <th></th>\n",
       "      <th></th>\n",
       "    </tr>\n",
       "  </thead>\n",
       "  <tbody>\n",
       "    <tr>\n",
       "      <th>ns1</th>\n",
       "      <td>0</td>\n",
       "      <td>s1</td>\n",
       "      <td>movie</td>\n",
       "      <td>dick johnson is dead</td>\n",
       "      <td>kirsten johnson</td>\n",
       "      <td>NaN</td>\n",
       "      <td>united states</td>\n",
       "      <td>2021-09-25</td>\n",
       "      <td>2020</td>\n",
       "      <td>pg-13</td>\n",
       "      <td>documentaries</td>\n",
       "      <td>as her father nears the end of his life, filmm...</td>\n",
       "      <td>0</td>\n",
       "      <td>0</td>\n",
       "      <td>Netflix</td>\n",
       "    </tr>\n",
       "    <tr>\n",
       "      <th>ns2</th>\n",
       "      <td>1</td>\n",
       "      <td>s2</td>\n",
       "      <td>tv show</td>\n",
       "      <td>blood &amp; water</td>\n",
       "      <td>NaN</td>\n",
       "      <td>ama qamata, khosi ngema, gail mabalane, thaban...</td>\n",
       "      <td>south africa</td>\n",
       "      <td>2021-09-24</td>\n",
       "      <td>2021</td>\n",
       "      <td>tv-ma</td>\n",
       "      <td>international tv shows, tv dramas, tv mysteries</td>\n",
       "      <td>after crossing paths at a party, a cape town t...</td>\n",
       "      <td>0</td>\n",
       "      <td>0</td>\n",
       "      <td>Netflix</td>\n",
       "    </tr>\n",
       "    <tr>\n",
       "      <th>ns3</th>\n",
       "      <td>2</td>\n",
       "      <td>s3</td>\n",
       "      <td>tv show</td>\n",
       "      <td>ganglands</td>\n",
       "      <td>julien leclercq</td>\n",
       "      <td>sami bouajila, tracy gotoas, samuel jouy, nabi...</td>\n",
       "      <td>NaN</td>\n",
       "      <td>2021-09-24</td>\n",
       "      <td>2021</td>\n",
       "      <td>tv-ma</td>\n",
       "      <td>crime tv shows, international tv shows, tv act...</td>\n",
       "      <td>to protect his family from a powerful drug lor...</td>\n",
       "      <td>0</td>\n",
       "      <td>0</td>\n",
       "      <td>Netflix</td>\n",
       "    </tr>\n",
       "    <tr>\n",
       "      <th>ns4</th>\n",
       "      <td>3</td>\n",
       "      <td>s4</td>\n",
       "      <td>tv show</td>\n",
       "      <td>jailbirds new orleans</td>\n",
       "      <td>NaN</td>\n",
       "      <td>NaN</td>\n",
       "      <td>NaN</td>\n",
       "      <td>2021-09-24</td>\n",
       "      <td>2021</td>\n",
       "      <td>tv-ma</td>\n",
       "      <td>docuseries, reality tv</td>\n",
       "      <td>feuds, flirtations and toilet talk go down amo...</td>\n",
       "      <td>0</td>\n",
       "      <td>0</td>\n",
       "      <td>Netflix</td>\n",
       "    </tr>\n",
       "    <tr>\n",
       "      <th>ns5</th>\n",
       "      <td>4</td>\n",
       "      <td>s5</td>\n",
       "      <td>tv show</td>\n",
       "      <td>kota factory</td>\n",
       "      <td>NaN</td>\n",
       "      <td>mayur more, jitendra kumar, ranjan raj, alam k...</td>\n",
       "      <td>india</td>\n",
       "      <td>2021-09-24</td>\n",
       "      <td>2021</td>\n",
       "      <td>tv-ma</td>\n",
       "      <td>international tv shows, romantic tv shows, tv ...</td>\n",
       "      <td>in a city of coaching centers known to train i...</td>\n",
       "      <td>0</td>\n",
       "      <td>0</td>\n",
       "      <td>Netflix</td>\n",
       "    </tr>\n",
       "    <tr>\n",
       "      <th>...</th>\n",
       "      <td>...</td>\n",
       "      <td>...</td>\n",
       "      <td>...</td>\n",
       "      <td>...</td>\n",
       "      <td>...</td>\n",
       "      <td>...</td>\n",
       "      <td>...</td>\n",
       "      <td>...</td>\n",
       "      <td>...</td>\n",
       "      <td>...</td>\n",
       "      <td>...</td>\n",
       "      <td>...</td>\n",
       "      <td>...</td>\n",
       "      <td>...</td>\n",
       "      <td>...</td>\n",
       "    </tr>\n",
       "    <tr>\n",
       "      <th>ns8803</th>\n",
       "      <td>8802</td>\n",
       "      <td>s8803</td>\n",
       "      <td>movie</td>\n",
       "      <td>zodiac</td>\n",
       "      <td>david fincher</td>\n",
       "      <td>mark ruffalo, jake gyllenhaal, robert downey j...</td>\n",
       "      <td>united states</td>\n",
       "      <td>2019-11-20</td>\n",
       "      <td>2007</td>\n",
       "      <td>r</td>\n",
       "      <td>cult movies, dramas, thrillers</td>\n",
       "      <td>a political cartoonist, a crime reporter and a...</td>\n",
       "      <td>0</td>\n",
       "      <td>0</td>\n",
       "      <td>Netflix</td>\n",
       "    </tr>\n",
       "    <tr>\n",
       "      <th>ns8804</th>\n",
       "      <td>8803</td>\n",
       "      <td>s8804</td>\n",
       "      <td>tv show</td>\n",
       "      <td>zombie dumb</td>\n",
       "      <td>NaN</td>\n",
       "      <td>NaN</td>\n",
       "      <td>NaN</td>\n",
       "      <td>2019-07-01</td>\n",
       "      <td>2018</td>\n",
       "      <td>tv-y7</td>\n",
       "      <td>kids' tv, korean tv shows, tv comedies</td>\n",
       "      <td>while living alone in a spooky town, a young g...</td>\n",
       "      <td>0</td>\n",
       "      <td>0</td>\n",
       "      <td>Netflix</td>\n",
       "    </tr>\n",
       "    <tr>\n",
       "      <th>ns8805</th>\n",
       "      <td>8804</td>\n",
       "      <td>s8805</td>\n",
       "      <td>movie</td>\n",
       "      <td>zombieland</td>\n",
       "      <td>ruben fleischer</td>\n",
       "      <td>jesse eisenberg, woody harrelson, emma stone, ...</td>\n",
       "      <td>united states</td>\n",
       "      <td>2019-11-01</td>\n",
       "      <td>2009</td>\n",
       "      <td>r</td>\n",
       "      <td>comedies, horror movies</td>\n",
       "      <td>looking to survive in a world taken over by zo...</td>\n",
       "      <td>0</td>\n",
       "      <td>0</td>\n",
       "      <td>Netflix</td>\n",
       "    </tr>\n",
       "    <tr>\n",
       "      <th>ns8806</th>\n",
       "      <td>8805</td>\n",
       "      <td>s8806</td>\n",
       "      <td>movie</td>\n",
       "      <td>zoom</td>\n",
       "      <td>peter hewitt</td>\n",
       "      <td>tim allen, courteney cox, chevy chase, kate ma...</td>\n",
       "      <td>united states</td>\n",
       "      <td>2020-01-11</td>\n",
       "      <td>2006</td>\n",
       "      <td>pg</td>\n",
       "      <td>children &amp; family movies, comedies</td>\n",
       "      <td>dragged from civilian life, a former superhero...</td>\n",
       "      <td>0</td>\n",
       "      <td>0</td>\n",
       "      <td>Netflix</td>\n",
       "    </tr>\n",
       "    <tr>\n",
       "      <th>ns8807</th>\n",
       "      <td>8806</td>\n",
       "      <td>s8807</td>\n",
       "      <td>movie</td>\n",
       "      <td>zubaan</td>\n",
       "      <td>mozez singh</td>\n",
       "      <td>vicky kaushal, sarah-jane dias, raaghav chanan...</td>\n",
       "      <td>india</td>\n",
       "      <td>2019-03-02</td>\n",
       "      <td>2015</td>\n",
       "      <td>tv-14</td>\n",
       "      <td>dramas, international movies, music &amp; musicals</td>\n",
       "      <td>a scrappy but poor boy worms his way into a ty...</td>\n",
       "      <td>0</td>\n",
       "      <td>0</td>\n",
       "      <td>Netflix</td>\n",
       "    </tr>\n",
       "  </tbody>\n",
       "</table>\n",
       "<p>8807 rows × 15 columns</p>\n",
       "</div>"
      ],
      "text/plain": [
       "        index show_id     type                  title         director  \\\n",
       "id                                                                       \n",
       "ns1         0      s1    movie   dick johnson is dead  kirsten johnson   \n",
       "ns2         1      s2  tv show          blood & water              NaN   \n",
       "ns3         2      s3  tv show              ganglands  julien leclercq   \n",
       "ns4         3      s4  tv show  jailbirds new orleans              NaN   \n",
       "ns5         4      s5  tv show           kota factory              NaN   \n",
       "...       ...     ...      ...                    ...              ...   \n",
       "ns8803   8802   s8803    movie                 zodiac    david fincher   \n",
       "ns8804   8803   s8804  tv show            zombie dumb              NaN   \n",
       "ns8805   8804   s8805    movie             zombieland  ruben fleischer   \n",
       "ns8806   8805   s8806    movie                   zoom     peter hewitt   \n",
       "ns8807   8806   s8807    movie                 zubaan      mozez singh   \n",
       "\n",
       "                                                     cast        country  \\\n",
       "id                                                                         \n",
       "ns1                                                   NaN  united states   \n",
       "ns2     ama qamata, khosi ngema, gail mabalane, thaban...   south africa   \n",
       "ns3     sami bouajila, tracy gotoas, samuel jouy, nabi...            NaN   \n",
       "ns4                                                   NaN            NaN   \n",
       "ns5     mayur more, jitendra kumar, ranjan raj, alam k...          india   \n",
       "...                                                   ...            ...   \n",
       "ns8803  mark ruffalo, jake gyllenhaal, robert downey j...  united states   \n",
       "ns8804                                                NaN            NaN   \n",
       "ns8805  jesse eisenberg, woody harrelson, emma stone, ...  united states   \n",
       "ns8806  tim allen, courteney cox, chevy chase, kate ma...  united states   \n",
       "ns8807  vicky kaushal, sarah-jane dias, raaghav chanan...          india   \n",
       "\n",
       "       date_added  release_year rating  \\\n",
       "id                                       \n",
       "ns1    2021-09-25          2020  pg-13   \n",
       "ns2    2021-09-24          2021  tv-ma   \n",
       "ns3    2021-09-24          2021  tv-ma   \n",
       "ns4    2021-09-24          2021  tv-ma   \n",
       "ns5    2021-09-24          2021  tv-ma   \n",
       "...           ...           ...    ...   \n",
       "ns8803 2019-11-20          2007      r   \n",
       "ns8804 2019-07-01          2018  tv-y7   \n",
       "ns8805 2019-11-01          2009      r   \n",
       "ns8806 2020-01-11          2006     pg   \n",
       "ns8807 2019-03-02          2015  tv-14   \n",
       "\n",
       "                                                listed_in  \\\n",
       "id                                                          \n",
       "ns1                                         documentaries   \n",
       "ns2       international tv shows, tv dramas, tv mysteries   \n",
       "ns3     crime tv shows, international tv shows, tv act...   \n",
       "ns4                                docuseries, reality tv   \n",
       "ns5     international tv shows, romantic tv shows, tv ...   \n",
       "...                                                   ...   \n",
       "ns8803                     cult movies, dramas, thrillers   \n",
       "ns8804             kids' tv, korean tv shows, tv comedies   \n",
       "ns8805                            comedies, horror movies   \n",
       "ns8806                 children & family movies, comedies   \n",
       "ns8807     dramas, international movies, music & musicals   \n",
       "\n",
       "                                              description min seasons platform  \n",
       "id                                                                              \n",
       "ns1     as her father nears the end of his life, filmm...   0       0  Netflix  \n",
       "ns2     after crossing paths at a party, a cape town t...   0       0  Netflix  \n",
       "ns3     to protect his family from a powerful drug lor...   0       0  Netflix  \n",
       "ns4     feuds, flirtations and toilet talk go down amo...   0       0  Netflix  \n",
       "ns5     in a city of coaching centers known to train i...   0       0  Netflix  \n",
       "...                                                   ...  ..     ...      ...  \n",
       "ns8803  a political cartoonist, a crime reporter and a...   0       0  Netflix  \n",
       "ns8804  while living alone in a spooky town, a young g...   0       0  Netflix  \n",
       "ns8805  looking to survive in a world taken over by zo...   0       0  Netflix  \n",
       "ns8806  dragged from civilian life, a former superhero...   0       0  Netflix  \n",
       "ns8807  a scrappy but poor boy worms his way into a ty...   0       0  Netflix  \n",
       "\n",
       "[8807 rows x 15 columns]"
      ]
     },
     "execution_count": 32,
     "metadata": {},
     "output_type": "execute_result"
    }
   ],
   "source": [
    "amazon.drop(['duration'], axis=1)\n",
    "disney.drop(['duration'], axis=1)\n",
    "hulu.drop(['duration'], axis=1)\n",
    "netflix.drop(['duration'], axis=1)"
   ]
  },
  {
   "attachments": {},
   "cell_type": "markdown",
   "metadata": {},
   "source": [
    "Sigueinte pasa es el de concatenan todos los dataframes en uno solo, así poder manipular de forma más fácil las consultas planeadas."
   ]
  },
  {
   "cell_type": "code",
   "execution_count": 33,
   "metadata": {},
   "outputs": [
    {
     "data": {
      "text/html": [
       "<div>\n",
       "<style scoped>\n",
       "    .dataframe tbody tr th:only-of-type {\n",
       "        vertical-align: middle;\n",
       "    }\n",
       "\n",
       "    .dataframe tbody tr th {\n",
       "        vertical-align: top;\n",
       "    }\n",
       "\n",
       "    .dataframe thead th {\n",
       "        text-align: right;\n",
       "    }\n",
       "</style>\n",
       "<table border=\"1\" class=\"dataframe\">\n",
       "  <thead>\n",
       "    <tr style=\"text-align: right;\">\n",
       "      <th></th>\n",
       "      <th>index</th>\n",
       "      <th>show_id</th>\n",
       "      <th>type</th>\n",
       "      <th>title</th>\n",
       "      <th>director</th>\n",
       "      <th>cast</th>\n",
       "      <th>country</th>\n",
       "      <th>date_added</th>\n",
       "      <th>release_year</th>\n",
       "      <th>rating</th>\n",
       "      <th>duration</th>\n",
       "      <th>listed_in</th>\n",
       "      <th>description</th>\n",
       "      <th>min</th>\n",
       "      <th>seasons</th>\n",
       "      <th>platform</th>\n",
       "    </tr>\n",
       "    <tr>\n",
       "      <th>id</th>\n",
       "      <th></th>\n",
       "      <th></th>\n",
       "      <th></th>\n",
       "      <th></th>\n",
       "      <th></th>\n",
       "      <th></th>\n",
       "      <th></th>\n",
       "      <th></th>\n",
       "      <th></th>\n",
       "      <th></th>\n",
       "      <th></th>\n",
       "      <th></th>\n",
       "      <th></th>\n",
       "      <th></th>\n",
       "      <th></th>\n",
       "      <th></th>\n",
       "    </tr>\n",
       "  </thead>\n",
       "  <tbody>\n",
       "    <tr>\n",
       "      <th>ns7691</th>\n",
       "      <td>7690</td>\n",
       "      <td>s7691</td>\n",
       "      <td>movie</td>\n",
       "      <td>p.s. i love you</td>\n",
       "      <td>richard lagravenese</td>\n",
       "      <td>hilary swank, gerard butler, lisa kudrow, gina...</td>\n",
       "      <td>united states</td>\n",
       "      <td>2019-04-01</td>\n",
       "      <td>2007</td>\n",
       "      <td>pg-13</td>\n",
       "      <td>126 min</td>\n",
       "      <td>dramas, romantic movies</td>\n",
       "      <td>when she loses her beloved husband to a brain ...</td>\n",
       "      <td>0</td>\n",
       "      <td>0</td>\n",
       "      <td>Netflix</td>\n",
       "    </tr>\n",
       "    <tr>\n",
       "      <th>as6048</th>\n",
       "      <td>6047</td>\n",
       "      <td>s6048</td>\n",
       "      <td>movie</td>\n",
       "      <td>somnus</td>\n",
       "      <td>chris reading</td>\n",
       "      <td>marcus mcmahon, meryl griffiths, cullum austin...</td>\n",
       "      <td>NaN</td>\n",
       "      <td>NaT</td>\n",
       "      <td>2016</td>\n",
       "      <td>13+</td>\n",
       "      <td>83 min</td>\n",
       "      <td>science fiction, suspense</td>\n",
       "      <td>in the far reaches of our galaxy, a cargo vess...</td>\n",
       "      <td>83</td>\n",
       "      <td>0</td>\n",
       "      <td>Amazon</td>\n",
       "    </tr>\n",
       "    <tr>\n",
       "      <th>as1473</th>\n",
       "      <td>1472</td>\n",
       "      <td>s1473</td>\n",
       "      <td>movie</td>\n",
       "      <td>not wanted</td>\n",
       "      <td>ida lupino, elmer clifton</td>\n",
       "      <td>sally forrest, keefe brasselle, leo penn, doro...</td>\n",
       "      <td>NaN</td>\n",
       "      <td>NaT</td>\n",
       "      <td>1949</td>\n",
       "      <td>18+</td>\n",
       "      <td>91 min</td>\n",
       "      <td>drama</td>\n",
       "      <td>sally, a bored young waitress, lives in a do-n...</td>\n",
       "      <td>91</td>\n",
       "      <td>0</td>\n",
       "      <td>Amazon</td>\n",
       "    </tr>\n",
       "    <tr>\n",
       "      <th>ns8657</th>\n",
       "      <td>8656</td>\n",
       "      <td>s8657</td>\n",
       "      <td>movie</td>\n",
       "      <td>unacknowledged</td>\n",
       "      <td>michael mazzola</td>\n",
       "      <td>NaN</td>\n",
       "      <td>united states</td>\n",
       "      <td>2017-08-21</td>\n",
       "      <td>2017</td>\n",
       "      <td>tv-ma</td>\n",
       "      <td>104 min</td>\n",
       "      <td>documentaries</td>\n",
       "      <td>noted ufo expert dr. steven greer interviews w...</td>\n",
       "      <td>0</td>\n",
       "      <td>0</td>\n",
       "      <td>Netflix</td>\n",
       "    </tr>\n",
       "  </tbody>\n",
       "</table>\n",
       "</div>"
      ],
      "text/plain": [
       "        index show_id   type            title                   director  \\\n",
       "id                                                                         \n",
       "ns7691   7690   s7691  movie  p.s. i love you        richard lagravenese   \n",
       "as6048   6047   s6048  movie           somnus              chris reading   \n",
       "as1473   1472   s1473  movie       not wanted  ida lupino, elmer clifton   \n",
       "ns8657   8656   s8657  movie   unacknowledged            michael mazzola   \n",
       "\n",
       "                                                     cast        country  \\\n",
       "id                                                                         \n",
       "ns7691  hilary swank, gerard butler, lisa kudrow, gina...  united states   \n",
       "as6048  marcus mcmahon, meryl griffiths, cullum austin...            NaN   \n",
       "as1473  sally forrest, keefe brasselle, leo penn, doro...            NaN   \n",
       "ns8657                                                NaN  united states   \n",
       "\n",
       "       date_added  release_year rating duration                  listed_in  \\\n",
       "id                                                                           \n",
       "ns7691 2019-04-01          2007  pg-13  126 min    dramas, romantic movies   \n",
       "as6048        NaT          2016    13+   83 min  science fiction, suspense   \n",
       "as1473        NaT          1949    18+   91 min                      drama   \n",
       "ns8657 2017-08-21          2017  tv-ma  104 min              documentaries   \n",
       "\n",
       "                                              description min seasons platform  \n",
       "id                                                                              \n",
       "ns7691  when she loses her beloved husband to a brain ...   0       0  Netflix  \n",
       "as6048  in the far reaches of our galaxy, a cargo vess...  83       0   Amazon  \n",
       "as1473  sally, a bored young waitress, lives in a do-n...  91       0   Amazon  \n",
       "ns8657  noted ufo expert dr. steven greer interviews w...   0       0  Netflix  "
      ]
     },
     "execution_count": 33,
     "metadata": {},
     "output_type": "execute_result"
    }
   ],
   "source": [
    "uniondf = pd.concat([amazon,disney,hulu,netflix],axis=0)\n",
    "uniondf.sample(4)"
   ]
  },
  {
   "cell_type": "code",
   "execution_count": 34,
   "metadata": {},
   "outputs": [
    {
     "data": {
      "text/plain": [
       "(22998, 16)"
      ]
     },
     "execution_count": 34,
     "metadata": {},
     "output_type": "execute_result"
    }
   ],
   "source": [
    "uniondf.shape"
   ]
  },
  {
   "attachments": {},
   "cell_type": "markdown",
   "metadata": {},
   "source": [
    "A continuación, se cambiarán  las columnas 'tiempo_dur' y 'seasons', a integer, con el proposito de facilitar futuras respuestas"
   ]
  },
  {
   "cell_type": "code",
   "execution_count": 35,
   "metadata": {},
   "outputs": [],
   "source": [
    "uniondf['seasons'] = uniondf['seasons'].astype(int)\n",
    "uniondf['min'] = uniondf['min'].astype(int)"
   ]
  },
  {
   "cell_type": "code",
   "execution_count": 36,
   "metadata": {},
   "outputs": [
    {
     "data": {
      "text/plain": [
       "index                    int64\n",
       "show_id                 object\n",
       "type                    object\n",
       "title                   object\n",
       "director                object\n",
       "cast                    object\n",
       "country                 object\n",
       "date_added      datetime64[ns]\n",
       "release_year             int64\n",
       "rating                  object\n",
       "duration                object\n",
       "listed_in               object\n",
       "description             object\n",
       "min                      int32\n",
       "seasons                  int32\n",
       "platform                object\n",
       "dtype: object"
      ]
     },
     "execution_count": 36,
     "metadata": {},
     "output_type": "execute_result"
    }
   ],
   "source": [
    "uniondf.dtypes"
   ]
  },
  {
   "attachments": {},
   "cell_type": "markdown",
   "metadata": {},
   "source": [
    "Ahora se rellena los valores nulos con \"sin informacion\", para completar "
   ]
  },
  {
   "cell_type": "code",
   "execution_count": 37,
   "metadata": {},
   "outputs": [
    {
     "data": {
      "text/html": [
       "<div>\n",
       "<style scoped>\n",
       "    .dataframe tbody tr th:only-of-type {\n",
       "        vertical-align: middle;\n",
       "    }\n",
       "\n",
       "    .dataframe tbody tr th {\n",
       "        vertical-align: top;\n",
       "    }\n",
       "\n",
       "    .dataframe thead th {\n",
       "        text-align: right;\n",
       "    }\n",
       "</style>\n",
       "<table border=\"1\" class=\"dataframe\">\n",
       "  <thead>\n",
       "    <tr style=\"text-align: right;\">\n",
       "      <th></th>\n",
       "      <th>index</th>\n",
       "      <th>show_id</th>\n",
       "      <th>type</th>\n",
       "      <th>title</th>\n",
       "      <th>director</th>\n",
       "      <th>cast</th>\n",
       "      <th>country</th>\n",
       "      <th>date_added</th>\n",
       "      <th>release_year</th>\n",
       "      <th>rating</th>\n",
       "      <th>duration</th>\n",
       "      <th>listed_in</th>\n",
       "      <th>description</th>\n",
       "      <th>min</th>\n",
       "      <th>seasons</th>\n",
       "      <th>platform</th>\n",
       "    </tr>\n",
       "    <tr>\n",
       "      <th>id</th>\n",
       "      <th></th>\n",
       "      <th></th>\n",
       "      <th></th>\n",
       "      <th></th>\n",
       "      <th></th>\n",
       "      <th></th>\n",
       "      <th></th>\n",
       "      <th></th>\n",
       "      <th></th>\n",
       "      <th></th>\n",
       "      <th></th>\n",
       "      <th></th>\n",
       "      <th></th>\n",
       "      <th></th>\n",
       "      <th></th>\n",
       "      <th></th>\n",
       "    </tr>\n",
       "  </thead>\n",
       "  <tbody>\n",
       "    <tr>\n",
       "      <th>as9149</th>\n",
       "      <td>9148</td>\n",
       "      <td>s9149</td>\n",
       "      <td>movie</td>\n",
       "      <td>more sex and the single mom</td>\n",
       "      <td>don mcbrearty</td>\n",
       "      <td>gail o'grady, grant show, chelsea hobbs</td>\n",
       "      <td>sin informacion</td>\n",
       "      <td>sin informacion</td>\n",
       "      <td>2005</td>\n",
       "      <td>16+</td>\n",
       "      <td>90 min</td>\n",
       "      <td>drama, romance</td>\n",
       "      <td>single, divorced lawyer jess gradwell returns ...</td>\n",
       "      <td>90</td>\n",
       "      <td>0</td>\n",
       "      <td>Amazon</td>\n",
       "    </tr>\n",
       "    <tr>\n",
       "      <th>ns5265</th>\n",
       "      <td>5264</td>\n",
       "      <td>s5265</td>\n",
       "      <td>movie</td>\n",
       "      <td>swearnet: the movie</td>\n",
       "      <td>warren p. sonoda</td>\n",
       "      <td>mike smith, john paul tremblay, robb wells, pa...</td>\n",
       "      <td>canada</td>\n",
       "      <td>2017-09-24 00:00:00</td>\n",
       "      <td>2014</td>\n",
       "      <td>nc-17</td>\n",
       "      <td>112 min</td>\n",
       "      <td>comedies, international movies</td>\n",
       "      <td>after losing a tv network deal, the trailer pa...</td>\n",
       "      <td>0</td>\n",
       "      <td>0</td>\n",
       "      <td>Netflix</td>\n",
       "    </tr>\n",
       "    <tr>\n",
       "      <th>ns348</th>\n",
       "      <td>347</td>\n",
       "      <td>s348</td>\n",
       "      <td>movie</td>\n",
       "      <td>planet 51</td>\n",
       "      <td>jorge blanco</td>\n",
       "      <td>justin long, dwayne johnson, gary oldman, sean...</td>\n",
       "      <td>spain, united kingdom, united states</td>\n",
       "      <td>2021-08-01 00:00:00</td>\n",
       "      <td>2009</td>\n",
       "      <td>pg</td>\n",
       "      <td>91 min</td>\n",
       "      <td>children &amp; family movies, comedies, sci-fi &amp; f...</td>\n",
       "      <td>after landing on a planet reminiscent of 1950s...</td>\n",
       "      <td>0</td>\n",
       "      <td>0</td>\n",
       "      <td>Netflix</td>\n",
       "    </tr>\n",
       "  </tbody>\n",
       "</table>\n",
       "</div>"
      ],
      "text/plain": [
       "        index show_id   type                        title          director  \\\n",
       "id                                                                            \n",
       "as9149   9148   s9149  movie  more sex and the single mom     don mcbrearty   \n",
       "ns5265   5264   s5265  movie          swearnet: the movie  warren p. sonoda   \n",
       "ns348     347    s348  movie                    planet 51      jorge blanco   \n",
       "\n",
       "                                                     cast  \\\n",
       "id                                                          \n",
       "as9149            gail o'grady, grant show, chelsea hobbs   \n",
       "ns5265  mike smith, john paul tremblay, robb wells, pa...   \n",
       "ns348   justin long, dwayne johnson, gary oldman, sean...   \n",
       "\n",
       "                                     country           date_added  \\\n",
       "id                                                                  \n",
       "as9149                       sin informacion      sin informacion   \n",
       "ns5265                                canada  2017-09-24 00:00:00   \n",
       "ns348   spain, united kingdom, united states  2021-08-01 00:00:00   \n",
       "\n",
       "        release_year rating duration  \\\n",
       "id                                     \n",
       "as9149          2005    16+   90 min   \n",
       "ns5265          2014  nc-17  112 min   \n",
       "ns348           2009     pg   91 min   \n",
       "\n",
       "                                                listed_in  \\\n",
       "id                                                          \n",
       "as9149                                     drama, romance   \n",
       "ns5265                     comedies, international movies   \n",
       "ns348   children & family movies, comedies, sci-fi & f...   \n",
       "\n",
       "                                              description  min  seasons  \\\n",
       "id                                                                        \n",
       "as9149  single, divorced lawyer jess gradwell returns ...   90        0   \n",
       "ns5265  after losing a tv network deal, the trailer pa...    0        0   \n",
       "ns348   after landing on a planet reminiscent of 1950s...    0        0   \n",
       "\n",
       "       platform  \n",
       "id               \n",
       "as9149   Amazon  \n",
       "ns5265  Netflix  \n",
       "ns348   Netflix  "
      ]
     },
     "execution_count": 37,
     "metadata": {},
     "output_type": "execute_result"
    }
   ],
   "source": [
    "uniondf.fillna('sin informacion', inplace=True)\n",
    "uniondf.sample(3) #Vemos 3 ejemplos"
   ]
  },
  {
   "attachments": {},
   "cell_type": "markdown",
   "metadata": {},
   "source": [
    "Al dataframe final, lo convertimos a un csv para trabajarlo en nuestro próximo archivo main.py ."
   ]
  },
  {
   "cell_type": "code",
   "execution_count": 39,
   "metadata": {},
   "outputs": [],
   "source": [
    "uniondf = pd.DataFrame(uniondf)\n",
    "uniondf.to_csv(\"uniondf.csv\")"
   ]
  }
 ],
 "metadata": {
  "kernelspec": {
   "display_name": "Python 3",
   "language": "python",
   "name": "python3"
  },
  "language_info": {
   "codemirror_mode": {
    "name": "ipython",
    "version": 3
   },
   "file_extension": ".py",
   "mimetype": "text/x-python",
   "name": "python",
   "nbconvert_exporter": "python",
   "pygments_lexer": "ipython3",
   "version": "3.11.2"
  },
  "orig_nbformat": 4
 },
 "nbformat": 4,
 "nbformat_minor": 2
}
